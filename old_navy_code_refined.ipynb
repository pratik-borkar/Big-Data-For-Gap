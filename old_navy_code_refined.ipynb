{
 "cells": [
  {
   "cell_type": "code",
   "execution_count": null,
   "id": "bbc8e31d",
   "metadata": {},
   "outputs": [],
   "source": [
    "import csv\n",
    "from bs4 import BeautifulSoup\n",
    "from selenium import webdriver\n",
    "from selenium.webdriver.firefox.options import Options\n",
    "from selenium.webdriver.common.by import By\n",
    "from selenium.webdriver.support.ui import WebDriverWait\n",
    "from selenium.webdriver.support import expected_conditions as EC\n",
    "from selenium.webdriver.firefox.service import Service\n",
    "from webdriver_manager.firefox import GeckoDriverManager\n",
    "\n",
    "def setup_driver():\n",
    "    options = Options()\n",
    "    options.add_argument('--no-sandbox')\n",
    "    options.add_argument('--disable-dev-shm-usage')\n",
    "    options.add_argument('--headless')  # Enable headless mode if GUI is not needed\n",
    "    driver = webdriver.Firefox(service=Service(GeckoDriverManager().install()), options=options)\n",
    "    return driver\n",
    "\n",
    "def extract_data(driver, url):\n",
    "    driver.get(url)\n",
    "    WebDriverWait(driver, 10).until(EC.presence_of_element_located((By.CSS_SELECTOR, 'div.category-page-p6sjqa')))\n",
    "    html = driver.page_source\n",
    "    soup = BeautifulSoup(html, 'html.parser')\n",
    "    return soup"
   ]
  },
  {
   "cell_type": "code",
   "execution_count": null,
   "id": "3b79d088",
   "metadata": {},
   "outputs": [],
   "source": [
    "def write_to_csv(soup, filename, attribute_class, parameter):\n",
    "    total_items = soup.find('div', class_='category-page-p6sjqa').text[:-6]\n",
    "    elements = soup.find_all('div', class_=attribute_class)\n",
    "    with open(filename, 'w', newline='', encoding='utf-8') as file:\n",
    "        writer = csv.writer(file)\n",
    "        writer.writerow([\"Parameter\", \"Parameter Value\", \"Data Value\", \"Total Items\"])\n",
    "        for element in elements:\n",
    "            detail = element.find('input', class_=\"category-page-40vz4u\")\n",
    "            if detail:\n",
    "                param_value = detail['value']\n",
    "                param_id = detail['id']\n",
    "                data_value = detail.find_next_sibling('span', class_='item_count').text.strip('()')\n",
    "                writer.writerow([parameter, param_value, data_value, total_items])"
   ]
  },
  {
   "cell_type": "code",
   "execution_count": null,
   "id": "9a3163c1",
   "metadata": {},
   "outputs": [],
   "source": [
    "def main():\n",
    "    driver = setup_driver()\n",
    "    try:\n",
    "        url = 'https://oldnavy.gap.com/browse/category.do?cid=1035712&#department=136&facetOrder=department:136'\n",
    "        soup = extract_data(driver, url)\n",
    "        write_to_csv(soup, 'old_navy_color_data.csv', 'facetbar-item-colorswatch category-page-5h7d9x', 'Color')\n",
    "        print(\"Data extraction and file writing completed successfully.\")\n",
    "    except Exception as e:\n",
    "        print(f\"An error occurred: {e}\")\n",
    "    finally:\n",
    "        driver.quit()\n",
    "\n",
    "if __name__ == \"__main__\":\n",
    "    main()"
   ]
  }
 ],
 "metadata": {
  "kernelspec": {
   "display_name": "Python 3 (ipykernel)",
   "language": "python",
   "name": "python3"
  },
  "language_info": {
   "codemirror_mode": {
    "name": "ipython",
    "version": 3
   },
   "file_extension": ".py",
   "mimetype": "text/x-python",
   "name": "python",
   "nbconvert_exporter": "python",
   "pygments_lexer": "ipython3",
   "version": "3.11.5"
  }
 },
 "nbformat": 4,
 "nbformat_minor": 5
}
