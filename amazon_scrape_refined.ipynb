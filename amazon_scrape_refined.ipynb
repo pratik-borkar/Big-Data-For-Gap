{
 "cells": [
  {
   "cell_type": "code",
   "execution_count": null,
   "id": "df9f6310",
   "metadata": {},
   "outputs": [],
   "source": [
    "import requests\n",
    "import random\n",
    "from bs4 import BeautifulSoup as bs\n",
    "from selenium import webdriver\n",
    "from selenium.webdriver.firefox.options import Options\n",
    "from selenium.webdriver.common.by import By\n",
    "from selenium.webdriver.support.wait import WebDriverWait\n",
    "from selenium.webdriver.support import expected_conditions as EC\n",
    "from selenium.webdriver.firefox.service import Service\n",
    "from webdriver_manager.firefox import GeckoDriverManager\n",
    "import time\n",
    "\n",
    "headers_list = [\n",
    "    {\n",
    "        \"User-Agent\": \"Mozilla/5.0 (Windows NT 10.0; WOW64) AppleWebKit/537.36 (KHTML, like Gecko) Chrome/107.0.0.0 Safari/537.36\",\n",
    "        \"Accept\": \"text/html,application/xhtml+xml,application/xml;q=0.9,image/webp,*/*;q=0.8\",\n",
    "        \"Accept-Language\": \"en-US,en;q=0.5\",\n",
    "        \"Accept-Encoding\": \"gzip, deflate, br\",\n",
    "        \"Referer\": \"https://www.google.com/\",\n",
    "        \"DNT\": \"1\",\n",
    "        \"Connection\": \"keep-alive\",\n",
    "        \"Upgrade-Insecure-Requests\": \"1\"\n",
    "    },\n",
    "]"
   ]
  },
  {
   "cell_type": "code",
   "execution_count": null,
   "id": "8b69280e",
   "metadata": {},
   "outputs": [],
   "source": [
    "def setup_selenium_driver():\n",
    "    firefox_options = Options()\n",
    "    firefox_options.add_argument('--no-sandbox')\n",
    "    firefox_options.add_argument('--disable-dev-shm-usage')\n",
    "    service = Service(GeckoDriverManager().install())\n",
    "    driver = webdriver.Firefox(service=service, options=firefox_options)\n",
    "    return driver"
   ]
  },
  {
   "cell_type": "code",
   "execution_count": null,
   "id": "be212a10",
   "metadata": {},
   "outputs": [],
   "source": [
    "def fetch_html_with_selenium(url):\n",
    "    driver = setup_selenium_driver()\n",
    "    driver.get(url)\n",
    "    WebDriverWait(driver, 10).until(EC.visibility_of_element_located((By.CSS_SELECTOR, \"footer\")))\n",
    "    time.sleep(2)  # Wait for any dynamic content to load\n",
    "    html_content = driver.page_source\n",
    "    driver.quit()\n",
    "    return html_content"
   ]
  },
  {
   "cell_type": "code",
   "execution_count": null,
   "id": "48f553d3",
   "metadata": {},
   "outputs": [],
   "source": [
    "def fetch_html_with_requests(url):\n",
    "    headers = random.choice(headers_list)\n",
    "    response = requests.get(url, headers=headers)\n",
    "    response.raise_for_status()  # Raises an HTTPError for bad responses\n",
    "    return response.text"
   ]
  },
  {
   "cell_type": "code",
   "execution_count": null,
   "id": "958644c6",
   "metadata": {},
   "outputs": [],
   "source": [
    "def parse_html(html):\n",
    "    soup = bs(html, 'html.parser')\n",
    "    products = []\n",
    "    for item in soup.select('.s-result-item'):\n",
    "        name = item.find('h2').get_text() if item.find('h2') else 'No Name'\n",
    "        price = item.find('span', class_='a-price') if item.find('span', class_='a-price') else 'No Price'\n",
    "        products.append({'name': name, 'price': price})\n",
    "    return products"
   ]
  },
  {
   "cell_type": "code",
   "execution_count": null,
   "id": "88b5a11e",
   "metadata": {},
   "outputs": [],
   "source": [
    "def main():\n",
    "    url = \"https://www.amazon.com/s?k=gap+shirts+for+men\"\n",
    "    try:\n",
    "        html = fetch_html_with_requests(url)\n",
    "        products = parse_html(html)\n",
    "        for product in products:\n",
    "            print(product)\n",
    "    except requests.HTTPError as e:\n",
    "        print(f\"Requests error: {e}\")\n",
    "    except Exception as e:\n",
    "        print(f\"An error occurred: {e}\")\n",
    "\n",
    "if __name__ == \"__main__\":\n",
    "    main()"
   ]
  }
 ],
 "metadata": {
  "kernelspec": {
   "display_name": "Python 3 (ipykernel)",
   "language": "python",
   "name": "python3"
  },
  "language_info": {
   "codemirror_mode": {
    "name": "ipython",
    "version": 3
   },
   "file_extension": ".py",
   "mimetype": "text/x-python",
   "name": "python",
   "nbconvert_exporter": "python",
   "pygments_lexer": "ipython3",
   "version": "3.11.5"
  }
 },
 "nbformat": 4,
 "nbformat_minor": 5
}
