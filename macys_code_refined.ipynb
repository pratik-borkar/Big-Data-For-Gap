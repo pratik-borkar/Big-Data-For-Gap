{
 "cells": [
  {
   "cell_type": "code",
   "execution_count": null,
   "id": "9827d8bf",
   "metadata": {},
   "outputs": [],
   "source": [
    "import urllib.request, urllib.error, urllib.parse\n",
    "import csv\n",
    "from bs4 import BeautifulSoup\n",
    "from selenium import webdriver\n",
    "from selenium.webdriver.firefox.options import Options\n",
    "from selenium.webdriver.common.by import By\n",
    "from selenium.webdriver.support.ui import WebDriverWait\n",
    "from selenium.webdriver.support import expected_conditions as EC\n",
    "from selenium.webdriver.firefox.service import Service\n",
    "from webdriver_manager.firefox import GeckoDriverManager\n",
    "import time\n",
    "\n",
    "def setup_driver():\n",
    "    firefox_options = Options()\n",
    "    firefox_options.add_argument('--no-sandbox')\n",
    "    firefox_options.add_argument('--disable-dev-shm-usage')\n",
    "    driver = webdriver.Firefox(service=Service(GeckoDriverManager().install()), options=firefox_options)\n",
    "    return driver\n",
    "\n",
    "def get_soup(url, driver):\n",
    "    driver.get(url)\n",
    "    WebDriverWait(driver, 10).until(EC.presence_of_element_located((By.CSS_SELECTOR, 'body')))\n",
    "    time.sleep(3)  # Wait for the dynamic content to load\n",
    "    html_content = driver.page_source\n",
    "    soup = BeautifulSoup(html_content, 'html.parser')\n",
    "    return soup"
   ]
  },
  {
   "cell_type": "code",
   "execution_count": null,
   "id": "e2ced2e8",
   "metadata": {},
   "outputs": [],
   "source": [
    "def extract_and_write_data(soup, csv_file_path, attribute_id):\n",
    "    with open(csv_file_path, 'w', encoding=\"utf-8\", newline='') as file:\n",
    "        writer = csv.writer(file)\n",
    "        writer.writerow([\"Parameter\", \"Parameter Value\", \"Data Value\"])\n",
    "        main_element = soup.find('li', id=attribute_id)\n",
    "        if main_element:\n",
    "            facet_links = main_element.find_all('a', class_=\"facet_link\")\n",
    "            for link in facet_links:\n",
    "                param_value = link['data-value']\n",
    "                data_value = link.find('span', class_=\"item_count\").text.strip('()')\n",
    "                writer.writerow([attribute_id, param_value, data_value])\n",
    "\n",
    "def main():\n",
    "    url = 'https://www.macys.com/shop/womens-clothing/womens-tops/Top_style,Sortby/T-Shirt,BEST_SELLERS?id=255'\n",
    "    driver = setup_driver()\n",
    "    try:\n",
    "        soup = get_soup(url, driver)\n",
    "        # Define attributes and corresponding CSV paths\n",
    "        attributes = {\n",
    "            \"SLEEVE_LENGTH\": \"macys_best_sellers_sleeve_data.csv\",\n",
    "            \"COLOR_NORMAL\": \"macys_best_sellers_color_data.csv\",\n",
    "            \"PRICE\": \"macys_best_sellers_price_data.csv\",\n",
    "            \"OCCASION\": \"macys_best_sellers_occasion_data.csv\",\n",
    "            \"FABRIC\": \"macys_best_sellers_fabric_data.csv\",\n",
    "            \"NECKLINE\": \"macys_best_sellers_neckline_data.csv\"\n",
    "        }\n",
    "        for attribute, csv_path in attributes.items():\n",
    "            extract_and_write_data(soup, csv_path, attribute)\n",
    "    except Exception as e:\n",
    "        print(f\"An error occurred: {e}\")\n",
    "    finally:\n",
    "        driver.quit()\n",
    "\n",
    "if __name__ == \"__main__\":\n",
    "    main()"
   ]
  }
 ],
 "metadata": {
  "kernelspec": {
   "display_name": "Python 3 (ipykernel)",
   "language": "python",
   "name": "python3"
  },
  "language_info": {
   "codemirror_mode": {
    "name": "ipython",
    "version": 3
   },
   "file_extension": ".py",
   "mimetype": "text/x-python",
   "name": "python",
   "nbconvert_exporter": "python",
   "pygments_lexer": "ipython3",
   "version": "3.11.5"
  }
 },
 "nbformat": 4,
 "nbformat_minor": 5
}
